{
 "cells": [
  {
   "cell_type": "code",
   "execution_count": 58,
   "metadata": {},
   "outputs": [],
   "source": [
    "inventario=[]\n",
    "clientes={}\n",
    "ventas_totales= float(0)"
   ]
  },
  {
   "cell_type": "markdown",
   "metadata": {},
   "source": [
    "1. Ejercicio función agregar producto.\n",
    "    - Itera a traves del inventario y compara los nombres de los productos con el nombre proporcionado.\n",
    "    - Si el producto ya existe, actualiza la cantidad.\n",
    "    - Si no existe, agrega un nuevo producto al inventario."
   ]
  },
  {
   "cell_type": "code",
   "execution_count": 22,
   "metadata": {},
   "outputs": [],
   "source": [
    "#Considero que utilio el for porque el ejercicio me pide que itere.\n",
    "\n",
    "#En primer lugar llamo la funcion e incluyo el for para iterar dentro de los productos del inventario.\n",
    "\n",
    "#Utilizo el if para comprobar si el nombre que se incluya del producto ya es un parametro que esté introducido.\n",
    "\n",
    "#Si el nombre ya esta metido, introduzco la actualización de la cantidad. \n",
    "\n",
    "#Cierro con return porque si no saltaba al append y seguia añadiendo el producto aunque existiera.\n",
    "\n",
    "#Agrego el append para añadir productos con las llaves para que los incluyas en los diccionarios.\n",
    "#En este caso probé con else pero no me salía, por lo que quitandolo y alineandolo al for si me funcionó.\n",
    "\n",
    "\n",
    "#Problemas: gerenar la lista de inventarios, comencé diciendole que era un diccionario y eso me hizo que no me diera el resultado esperado.\n",
    "            #quitar el else para identar al nivel del for la parte de append. Me costó muchas pruebas hasta que me funcinó."
   ]
  },
  {
   "cell_type": "code",
   "execution_count": 59,
   "metadata": {},
   "outputs": [],
   "source": [
    "def agregar_producto(nombre, precio, cantidad):\n",
    "   for producto in inventario:\n",
    "     if producto['nombre']== nombre:\n",
    "        producto['cantidad'] += cantidad\n",
    "        print('el producto ya existe')\n",
    "        return\n",
    "     #else: \n",
    "   inventario.append({'nombre': nombre,'precio': precio, 'cantidad': cantidad})\n",
    "   print('el producto se ha agregado con éxito')\n",
    "   return inventario\n",
    "        \n"
   ]
  },
  {
   "cell_type": "code",
   "execution_count": 60,
   "metadata": {},
   "outputs": [
    {
     "name": "stdout",
     "output_type": "stream",
     "text": [
      "el producto se ha agregado con éxito\n"
     ]
    },
    {
     "data": {
      "text/plain": [
       "[{'nombre': 'pantalon', 'precio': 40, 'cantidad': 2}]"
      ]
     },
     "execution_count": 60,
     "metadata": {},
     "output_type": "execute_result"
    }
   ],
   "source": [
    "agregar_producto(nombre='pantalon', precio= 40, cantidad=2)"
   ]
  },
  {
   "cell_type": "code",
   "execution_count": 61,
   "metadata": {},
   "outputs": [
    {
     "name": "stdout",
     "output_type": "stream",
     "text": [
      "el producto se ha agregado con éxito\n"
     ]
    },
    {
     "data": {
      "text/plain": [
       "[{'nombre': 'pantalon', 'precio': 40, 'cantidad': 2},\n",
       " {'nombre': 'zapatos', 'precio': 55, 'cantidad': 3}]"
      ]
     },
     "execution_count": 61,
     "metadata": {},
     "output_type": "execute_result"
    }
   ],
   "source": [
    "agregar_producto(nombre='zapatos', precio= 55, cantidad=3)"
   ]
  },
  {
   "cell_type": "code",
   "execution_count": 62,
   "metadata": {},
   "outputs": [
    {
     "name": "stdout",
     "output_type": "stream",
     "text": [
      "el producto ya existe\n"
     ]
    }
   ],
   "source": [
    "agregar_producto('pantalon', 30, 1)"
   ]
  },
  {
   "cell_type": "code",
   "execution_count": 63,
   "metadata": {},
   "outputs": [
    {
     "name": "stdout",
     "output_type": "stream",
     "text": [
      "el producto se ha agregado con éxito\n"
     ]
    },
    {
     "data": {
      "text/plain": [
       "[{'nombre': 'pantalon', 'precio': 40, 'cantidad': 3},\n",
       " {'nombre': 'zapatos', 'precio': 55, 'cantidad': 3},\n",
       " {'nombre': 'jean', 'precio': 25, 'cantidad': 2}]"
      ]
     },
     "execution_count": 63,
     "metadata": {},
     "output_type": "execute_result"
    }
   ],
   "source": [
    "agregar_producto('jean', 25, 2)"
   ]
  },
  {
   "cell_type": "code",
   "execution_count": 64,
   "metadata": {},
   "outputs": [
    {
     "data": {
      "text/plain": [
       "[{'nombre': 'pantalon', 'precio': 40, 'cantidad': 3},\n",
       " {'nombre': 'zapatos', 'precio': 55, 'cantidad': 3},\n",
       " {'nombre': 'jean', 'precio': 25, 'cantidad': 2}]"
      ]
     },
     "execution_count": 64,
     "metadata": {},
     "output_type": "execute_result"
    }
   ],
   "source": [
    "inventario"
   ]
  },
  {
   "cell_type": "markdown",
   "metadata": {},
   "source": [
    "2. ver_inventario()`: Muestra el inventario de productos con sus detalles.\n",
    "     - Utiliza un bucle `for` para recorrer el inventario.\n",
    "     - Imprime los detalles (nombre, precio, cantidad) de cada producto."
   ]
  },
  {
   "cell_type": "code",
   "execution_count": 65,
   "metadata": {},
   "outputs": [],
   "source": [
    "#¿Se podria sacar llamando simplemente al inventario?\n",
    "def ver_inventario():\n",
    "    for producto in inventario:\n",
    "        print (producto)"
   ]
  },
  {
   "cell_type": "code",
   "execution_count": 66,
   "metadata": {},
   "outputs": [
    {
     "name": "stdout",
     "output_type": "stream",
     "text": [
      "{'nombre': 'pantalon', 'precio': 40, 'cantidad': 3}\n",
      "{'nombre': 'zapatos', 'precio': 55, 'cantidad': 3}\n",
      "{'nombre': 'jean', 'precio': 25, 'cantidad': 2}\n"
     ]
    }
   ],
   "source": [
    "ver_inventario()"
   ]
  },
  {
   "cell_type": "markdown",
   "metadata": {},
   "source": [
    "3. `buscar_producto(nombre)`: Busca un producto en el inventario por nombre\n",
    "y muestra sus detalles si se encuentra. Debe recibir el nombre del producto\n",
    "como parámetro.\n",
    "     - Utiliza un bucle `for` para recorrer el inventario.\n",
    "     - Compara los nombres de los productos con el nombre proporcionado.\n",
    "     - Si se encuentra el producto, imprime sus detalles."
   ]
  },
  {
   "cell_type": "code",
   "execution_count": 67,
   "metadata": {},
   "outputs": [],
   "source": [
    "def buscar_producto(nombre):\n",
    "    nombre = nombre.lower()\n",
    "    for producto in inventario:\n",
    "        if producto[\"nombre\"].lower()== nombre:\n",
    "            print(producto)\n",
    "            return"
   ]
  },
  {
   "cell_type": "code",
   "execution_count": 68,
   "metadata": {},
   "outputs": [
    {
     "name": "stdout",
     "output_type": "stream",
     "text": [
      "{'nombre': 'pantalon', 'precio': 40, 'cantidad': 3}\n"
     ]
    }
   ],
   "source": [
    "buscar_producto('pantalon')"
   ]
  },
  {
   "cell_type": "code",
   "execution_count": 69,
   "metadata": {},
   "outputs": [
    {
     "name": "stdout",
     "output_type": "stream",
     "text": [
      "{'nombre': 'pantalon', 'precio': 40, 'cantidad': 3}\n"
     ]
    }
   ],
   "source": [
    "buscar_producto('Pantalon')"
   ]
  },
  {
   "cell_type": "markdown",
   "metadata": {},
   "source": [
    "4. `actualizar_stock(nombre, cantidad)`: Actualiza el stock de un producto\n",
    "en el inventario. Debe recibir el nombre del producto y la cantidad a\n",
    "agregar o quitar como parámetros.\n",
    "    - Utiliza un bucle `for` para recorrer el inventario.\n",
    "    - Busca el producto por nombre.\n",
    "    - Actualiza la cantidad según la entrada del usuario.\n",
    "    - Si el producto no esta en el inventario muestra un mensaje indicándolo.\n"
   ]
  },
  {
   "cell_type": "code",
   "execution_count": 70,
   "metadata": {},
   "outputs": [],
   "source": [
    "def actualizar_stock(nombre, cantidad):\n",
    "    operacion=input('¿quieres sumar o restar la cantidad?')\n",
    "    for producto in inventario:\n",
    "        if producto ['nombre']== nombre and operacion=='sumar':\n",
    "           producto ['cantidad']+= cantidad\n",
    "           print('cantidad actualizada correctamente')\n",
    "           return inventario\n",
    "        elif producto ['nombre']== nombre and operacion== 'restar':\n",
    "           producto ['cantidad'] -= cantidad\n",
    "           print('cantidad actualizada correctamente') \n",
    "        else:  \n",
    "           print('el producto no se ha encontrado')\n",
    "    return inventario"
   ]
  },
  {
   "cell_type": "code",
   "execution_count": 71,
   "metadata": {},
   "outputs": [
    {
     "name": "stdout",
     "output_type": "stream",
     "text": [
      "cantidad actualizada correctamente\n"
     ]
    },
    {
     "data": {
      "text/plain": [
       "[{'nombre': 'pantalon', 'precio': 40, 'cantidad': 6},\n",
       " {'nombre': 'zapatos', 'precio': 55, 'cantidad': 3},\n",
       " {'nombre': 'jean', 'precio': 25, 'cantidad': 2}]"
      ]
     },
     "execution_count": 71,
     "metadata": {},
     "output_type": "execute_result"
    }
   ],
   "source": [
    "actualizar_stock('pantalon', 3)"
   ]
  },
  {
   "cell_type": "code",
   "execution_count": 72,
   "metadata": {},
   "outputs": [
    {
     "name": "stdout",
     "output_type": "stream",
     "text": [
      "el producto no se ha encontrado\n",
      "cantidad actualizada correctamente\n",
      "el producto no se ha encontrado\n"
     ]
    },
    {
     "data": {
      "text/plain": [
       "[{'nombre': 'pantalon', 'precio': 40, 'cantidad': 6},\n",
       " {'nombre': 'zapatos', 'precio': 55, 'cantidad': 2},\n",
       " {'nombre': 'jean', 'precio': 25, 'cantidad': 2}]"
      ]
     },
     "execution_count": 72,
     "metadata": {},
     "output_type": "execute_result"
    }
   ],
   "source": [
    "actualizar_stock('zapatos', 1)"
   ]
  },
  {
   "cell_type": "code",
   "execution_count": 73,
   "metadata": {},
   "outputs": [
    {
     "name": "stdout",
     "output_type": "stream",
     "text": [
      "el producto no se ha encontrado\n",
      "cantidad actualizada correctamente\n"
     ]
    },
    {
     "data": {
      "text/plain": [
       "[{'nombre': 'pantalon', 'precio': 40, 'cantidad': 6},\n",
       " {'nombre': 'zapatos', 'precio': 55, 'cantidad': 4},\n",
       " {'nombre': 'jean', 'precio': 25, 'cantidad': 2}]"
      ]
     },
     "execution_count": 73,
     "metadata": {},
     "output_type": "execute_result"
    }
   ],
   "source": [
    "actualizar_stock('zapatos', 2)"
   ]
  },
  {
   "cell_type": "markdown",
   "metadata": {},
   "source": [
    "5. `eliminar_producto(nombre)`: Elimina un producto del inventario por\n",
    "nombre. Debe recibir el nombre del producto como parámetro.\n",
    "     - Utiliza un bucle `for` para recorrer el inventario.\n",
    "     - Busca el producto por nombre.\n",
    "     - Elimina el producto del inventario si existe.\n",
    "     - Si el producto no esta en el inventario muestra un mensaje\n",
    "indicándolo."
   ]
  },
  {
   "cell_type": "code",
   "execution_count": 74,
   "metadata": {},
   "outputs": [],
   "source": [
    "def eliminar_producto(nombre):\n",
    "    for producto in inventario:\n",
    "        if producto ['nombre'].lower()== nombre:\n",
    "           inventario.remove(producto)\n",
    "           print('el producto se ha eliminado con éxito')\n",
    "           return inventario\n",
    "        \n",
    "    print('el producto no se ha encontrado en el inventario')\n",
    "    return inventario"
   ]
  },
  {
   "cell_type": "code",
   "execution_count": 75,
   "metadata": {},
   "outputs": [
    {
     "name": "stdout",
     "output_type": "stream",
     "text": [
      "el producto se ha eliminado con éxito\n"
     ]
    },
    {
     "data": {
      "text/plain": [
       "[{'nombre': 'pantalon', 'precio': 40, 'cantidad': 6},\n",
       " {'nombre': 'zapatos', 'precio': 55, 'cantidad': 4}]"
      ]
     },
     "execution_count": 75,
     "metadata": {},
     "output_type": "execute_result"
    }
   ],
   "source": [
    "eliminar_producto('jean')"
   ]
  },
  {
   "cell_type": "code",
   "execution_count": 76,
   "metadata": {},
   "outputs": [
    {
     "name": "stdout",
     "output_type": "stream",
     "text": [
      "el producto no se ha encontrado en el inventario\n"
     ]
    },
    {
     "data": {
      "text/plain": [
       "[{'nombre': 'pantalon', 'precio': 40, 'cantidad': 6},\n",
       " {'nombre': 'zapatos', 'precio': 55, 'cantidad': 4}]"
      ]
     },
     "execution_count": 76,
     "metadata": {},
     "output_type": "execute_result"
    }
   ],
   "source": [
    "eliminar_producto('camisa')"
   ]
  },
  {
   "cell_type": "code",
   "execution_count": 77,
   "metadata": {},
   "outputs": [
    {
     "data": {
      "text/plain": [
       "[{'nombre': 'pantalon', 'precio': 40, 'cantidad': 6},\n",
       " {'nombre': 'zapatos', 'precio': 55, 'cantidad': 4}]"
      ]
     },
     "execution_count": 77,
     "metadata": {},
     "output_type": "execute_result"
    }
   ],
   "source": [
    "inventario"
   ]
  },
  {
   "cell_type": "markdown",
   "metadata": {},
   "source": [
    "6. calcular_valor_inventario()`: Calcula y muestra el valor total del\n",
    "inventario.\n",
    "     - Utiliza un bucle for para calcular el valor total del inventario.\n",
    "     - Itera a través del inventario y suma el valor de cada producto\n",
    "(precio x cantidad). Es decir, calcula el valor total del inventario."
   ]
  },
  {
   "cell_type": "code",
   "execution_count": 78,
   "metadata": {},
   "outputs": [],
   "source": [
    "def calcular_valor_inventario():\n",
    "    valor_total= float(0)\n",
    "    for producto in inventario:\n",
    "        valor_total+= producto ['precio']* producto ['cantidad']\n",
    "    print(valor_total)\n"
   ]
  },
  {
   "cell_type": "code",
   "execution_count": 79,
   "metadata": {},
   "outputs": [
    {
     "name": "stdout",
     "output_type": "stream",
     "text": [
      "460.0\n"
     ]
    }
   ],
   "source": [
    "calcular_valor_inventario()"
   ]
  },
  {
   "cell_type": "markdown",
   "metadata": {},
   "source": [
    "7. realizar_compra()`: Permite a un cliente realizar una compra seleccionando productos del inventario. Debe interactuar con el cliente para seleccionar productos y calcular el costo total de la compra.\n",
    "     - Utiliza un bucle `while` para permitir al cliente realizar múltiples compras.\n",
    "     - Muestra el inventario y solicita al cliente ingresar el nombre del producto que desea comprar.\n",
    "     - Registra los productos seleccionados en un carrito y actualiza el inventario.\n",
    "- Calcula el costo total de la compra."
   ]
  },
  {
   "cell_type": "code",
   "execution_count": 82,
   "metadata": {},
   "outputs": [],
   "source": [
    "def calcular_precio(nombre,cantidad):\n",
    "    nombre = nombre.lower()\n",
    "    for producto in inventario:\n",
    "        if producto[\"nombre\"].lower()== nombre:\n",
    "            return cantidad * producto['precio']\n",
    "        \n",
    "        \n",
    "def realizar_compra():\n",
    "    cesta_compra=[]\n",
    "    precio_total=float(0)\n",
    "    inicio_compra= input('¿Quieres añadir compra a tu cesta?: continuar o finalizar')\n",
    "    while inicio_compra== 'continuar':\n",
    "        compra_producto= input(f'ingresa el nombre del producto que deseas comprar: {inventario}\\n')\n",
    "        cantidad_compra= int(input('¿que cantidad quieres?'))\n",
    "        for producto in inventario:\n",
    "            if producto['nombre'].lower()== compra_producto and cantidad_compra<=producto['cantidad']:\n",
    "                cesta_compra.append((compra_producto,cantidad_compra))\n",
    "                producto['cantidad']-= cantidad_compra\n",
    "                precio_total+=calcular_precio(compra_producto,cantidad_compra)\n",
    "                inicio_compra= input('¿Quieres añadir compra a tu cesta?: continuar o finalizar')\n",
    "            elif producto['nombre'].lower()== compra_producto and cantidad_compra> producto['cantidad']:\n",
    "                print(f'no hay stock suficiente de {compra_producto}')\n",
    "                inicio_compra= input('¿Quieres añadir compra a tu cesta?: continuar o finalizar')\n",
    "    print('gracias por su compra')\n",
    "    print(cesta_compra)\n",
    "    print(precio_total)"
   ]
  },
  {
   "cell_type": "code",
   "execution_count": 83,
   "metadata": {},
   "outputs": [
    {
     "name": "stdout",
     "output_type": "stream",
     "text": [
      "no hay stock suficiente de zapatos\n",
      "gracias por su compra\n",
      "[('pantalon', 1)]\n",
      "40.0\n"
     ]
    }
   ],
   "source": [
    "realizar_compra()"
   ]
  },
  {
   "cell_type": "markdown",
   "metadata": {},
   "source": [
    "8. Procesar_pago()`: Procesa el pago de una compra, calcula el cambio y\n",
    "muestra un mensaje de confirmación.\n",
    "     - Utiliza un bloque `try...except` para manejar excepciones.\n",
    "     - Solicita al cliente ingresar la cantidad total y la cantidad de pago\n",
    "usando un input.\n",
    "     - Calcula el cambio y muestra un mensaje de pago exitoso o un error en\n",
    "caso de monto insuficiente.\n"
   ]
  },
  {
   "cell_type": "code",
   "execution_count": 84,
   "metadata": {},
   "outputs": [],
   "source": [
    "def procesar_pago():\n",
    "    try:\n",
    "        total_compra= float(input('ingresa el total a pagar de la compra'))\n",
    "        pago_cliente= float(input('introduce con que cantidad vas a pagar'))\n",
    "        if pago_cliente >= total_compra:\n",
    "           cambio_cliente= pago_cliente - total_compra\n",
    "           print(f'Pago realizado con exito. Su cambio es: {cambio_cliente}')\n",
    "        else:\n",
    "           print('error, cantidad insuficiente')\n",
    "    except:\n",
    "        print('Error, cantidad insuficiente para hacer el pago.')\n"
   ]
  },
  {
   "cell_type": "code",
   "execution_count": 85,
   "metadata": {},
   "outputs": [
    {
     "name": "stdout",
     "output_type": "stream",
     "text": [
      "Pago realizado con exito. Su cambio es: 40.0\n"
     ]
    }
   ],
   "source": [
    "procesar_pago()"
   ]
  },
  {
   "cell_type": "code",
   "execution_count": 86,
   "metadata": {},
   "outputs": [
    {
     "name": "stdout",
     "output_type": "stream",
     "text": [
      "error, cantidad insuficiente\n"
     ]
    }
   ],
   "source": [
    "procesar_pago()"
   ]
  },
  {
   "cell_type": "markdown",
   "metadata": {},
   "source": [
    "9. agregar_cliente(nombre, email)`: Agrega un nuevo cliente al registro de clientes. Debe recibir el nombre y el correo electrónico del cliente como parámetros.\n",
    "     - Agrega un cliente al diccionario de clientes con su nombre y correo electrónico."
   ]
  },
  {
   "cell_type": "code",
   "execution_count": 87,
   "metadata": {},
   "outputs": [],
   "source": [
    "def agregar_cliente(nombre, email):\n",
    "    if nombre in clientes:\n",
    "        print('el cliente ya existe')\n",
    "    else:\n",
    "        clientes[nombre]= email\n",
    "        print('cliente agregado correctamente')\n",
    "    return clientes"
   ]
  },
  {
   "cell_type": "code",
   "execution_count": 88,
   "metadata": {},
   "outputs": [
    {
     "name": "stdout",
     "output_type": "stream",
     "text": [
      "cliente agregado correctamente\n"
     ]
    },
    {
     "data": {
      "text/plain": [
       "{'Macarena': 'maca_33@gmail.com'}"
      ]
     },
     "execution_count": 88,
     "metadata": {},
     "output_type": "execute_result"
    }
   ],
   "source": [
    "agregar_cliente('Macarena', 'maca_33@gmail.com')"
   ]
  },
  {
   "cell_type": "code",
   "execution_count": 89,
   "metadata": {},
   "outputs": [
    {
     "name": "stdout",
     "output_type": "stream",
     "text": [
      "cliente agregado correctamente\n"
     ]
    },
    {
     "data": {
      "text/plain": [
       "{'Macarena': 'maca_33@gmail.com', 'Manuel': 'manuelortega@gmail.com'}"
      ]
     },
     "execution_count": 89,
     "metadata": {},
     "output_type": "execute_result"
    }
   ],
   "source": [
    "agregar_cliente('Manuel', 'manuelortega@gmail.com')"
   ]
  },
  {
   "cell_type": "code",
   "execution_count": 90,
   "metadata": {},
   "outputs": [
    {
     "name": "stdout",
     "output_type": "stream",
     "text": [
      "el cliente ya existe\n"
     ]
    },
    {
     "data": {
      "text/plain": [
       "{'Macarena': 'maca_33@gmail.com', 'Manuel': 'manuelortega@gmail.com'}"
      ]
     },
     "execution_count": 90,
     "metadata": {},
     "output_type": "execute_result"
    }
   ],
   "source": [
    "agregar_cliente('Macarena', 'maca_33@gmail.com')"
   ]
  },
  {
   "cell_type": "markdown",
   "metadata": {},
   "source": [
    "10. ver_clientes()`: Muestra la lista de clientes registrados con sus nombres y correos electrónicos.\n",
    "     - Utiliza un bucle `for` para recorrer la base de datos de clientes.\n",
    "     - Imprime los detalles de cada cliente (nombre y correo electrónico).\n"
   ]
  },
  {
   "cell_type": "code",
   "execution_count": 91,
   "metadata": {},
   "outputs": [],
   "source": [
    "def ver_clientes():\n",
    "    for cliente in clientes:\n",
    "        print (cliente)"
   ]
  },
  {
   "cell_type": "code",
   "execution_count": 92,
   "metadata": {},
   "outputs": [
    {
     "name": "stdout",
     "output_type": "stream",
     "text": [
      "Macarena\n",
      "Manuel\n"
     ]
    }
   ],
   "source": [
    "ver_clientes()"
   ]
  },
  {
   "cell_type": "markdown",
   "metadata": {},
   "source": [
    "11. registrar_compra(nombre_cliente, carrito)`: Registra una compra para un cliente, actualiza las ventas totales y agrega la compra al historial del cliente. Debe recibir el nombre del cliente y el carrito de compras como parámetros.\n",
    "     - Busca al cliente en el diccionario de clientes.\n",
    "     - Si el cliente no esta en el diccionario de clientes, muestra que no se puede realizar la acción por que el cliente no está en el diccionario.\n",
    "     - Calcula el total de la compra y registra la compra, incluyendo los productos y el total."
   ]
  },
  {
   "cell_type": "code",
   "execution_count": null,
   "metadata": {},
   "outputs": [],
   "source": [
    "def registrar_compra(nombre_cliente, carrito):\n",
    "    if nombre_cliente not in clientes:\n",
    "        print(f'no se puede realizar la compra, {nombre_cliente} no está en la base de datos')\n",
    "        return\n",
    "    \n",
    "    \n",
    "    #como el ejercicio 7 pero entiendo que se podria llamar a la funcion creada anteriormente realizar_compra(). No me ha salido así.\n",
    "    "
   ]
  },
  {
   "cell_type": "markdown",
   "metadata": {},
   "source": [
    "12. ver_compras_cliente(nombre_cliente)`: Muestra el historial de compras de un cliente. Debe recibir el nombre del cliente como parámetro.\n",
    "     - Busca al cliente en el diccionario de clientes.\n",
    "     - Muestra las compras realizadas por el cliente, incluyendo detalles de productos y totales."
   ]
  },
  {
   "cell_type": "code",
   "execution_count": 113,
   "metadata": {},
   "outputs": [],
   "source": [
    "def ver_compras_cliente(nombre_cliente):\n",
    "    historial_cliente=[]\n",
    "    for compras in clientes:\n",
    "        if nombre_cliente in clientes:\n",
    "            print(historial_cliente)\n",
    "\n",
    "#En este caso entiendo que al probar esta funcion la compra me aparece vacía porque no he podido registrar en el ejercicio anterior\n",
    "# ninguna compra del cliente Manuel ni Macarena."
   ]
  },
  {
   "cell_type": "code",
   "execution_count": 115,
   "metadata": {},
   "outputs": [
    {
     "name": "stdout",
     "output_type": "stream",
     "text": [
      "[]\n",
      "[]\n"
     ]
    }
   ],
   "source": [
    "ver_compras_cliente('Macarena')"
   ]
  },
  {
   "cell_type": "code",
   "execution_count": 116,
   "metadata": {},
   "outputs": [
    {
     "name": "stdout",
     "output_type": "stream",
     "text": [
      "[]\n",
      "[]\n"
     ]
    }
   ],
   "source": [
    "ver_compras_cliente('Manuel')"
   ]
  },
  {
   "cell_type": "markdown",
   "metadata": {},
   "source": [
    "13. calcular_ventas_totales()`: Muestra las ventas totales de la tienda.\n",
    "     - Suma los totales de todas las compras realizadas y muestra el total de ventas totales en la tienda."
   ]
  },
  {
   "cell_type": "code",
   "execution_count": 56,
   "metadata": {},
   "outputs": [],
   "source": [
    "def calcular_ventas_totales():\n",
    "    nombre = nombre.lower()\n",
    "    for producto in inventario:\n",
    "        if producto[\"nombre\"].lower()== nombre:\n",
    "            return cantidad * producto['precio']\n"
   ]
  },
  {
   "cell_type": "code",
   "execution_count": 57,
   "metadata": {},
   "outputs": [
    {
     "ename": "UnboundLocalError",
     "evalue": "cannot access local variable 'nombre' where it is not associated with a value",
     "output_type": "error",
     "traceback": [
      "\u001b[0;31m---------------------------------------------------------------------------\u001b[0m",
      "\u001b[0;31mUnboundLocalError\u001b[0m                         Traceback (most recent call last)",
      "Cell \u001b[0;32mIn[57], line 1\u001b[0m\n\u001b[0;32m----> 1\u001b[0m calcular_ventas_totales()\n",
      "Cell \u001b[0;32mIn[56], line 2\u001b[0m, in \u001b[0;36mcalcular_ventas_totales\u001b[0;34m()\u001b[0m\n\u001b[1;32m      1\u001b[0m \u001b[38;5;28;01mdef\u001b[39;00m \u001b[38;5;21mcalcular_ventas_totales\u001b[39m():\n\u001b[0;32m----> 2\u001b[0m     nombre \u001b[38;5;241m=\u001b[39m nombre\u001b[38;5;241m.\u001b[39mlower()\n\u001b[1;32m      3\u001b[0m     \u001b[38;5;28;01mfor\u001b[39;00m producto \u001b[38;5;129;01min\u001b[39;00m inventario:\n\u001b[1;32m      4\u001b[0m         \u001b[38;5;28;01mif\u001b[39;00m producto[\u001b[38;5;124m\"\u001b[39m\u001b[38;5;124mnombre\u001b[39m\u001b[38;5;124m\"\u001b[39m]\u001b[38;5;241m.\u001b[39mlower()\u001b[38;5;241m==\u001b[39m nombre:\n",
      "\u001b[0;31mUnboundLocalError\u001b[0m: cannot access local variable 'nombre' where it is not associated with a value"
     ]
    }
   ],
   "source": [
    "calcular_ventas_totales()"
   ]
  }
 ],
 "metadata": {
  "kernelspec": {
   "display_name": "base",
   "language": "python",
   "name": "python3"
  },
  "language_info": {
   "codemirror_mode": {
    "name": "ipython",
    "version": 3
   },
   "file_extension": ".py",
   "mimetype": "text/x-python",
   "name": "python",
   "nbconvert_exporter": "python",
   "pygments_lexer": "ipython3",
   "version": "3.12.7"
  }
 },
 "nbformat": 4,
 "nbformat_minor": 2
}
